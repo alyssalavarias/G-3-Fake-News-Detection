{
 "cells": [
  {
   "cell_type": "code",
   "execution_count": 11,
   "id": "5ffb1c3b-b584-478e-adbf-1e9a8218733a",
   "metadata": {},
   "outputs": [],
   "source": [
    "import pandas as pd\n",
    "import numpy as np\n",
    "import seaborn as sns\n",
    "import matplotlib.pyplot as plt\n",
    "from sklearn.model_selection import train_test_split\n",
    "from sklearn.metrics import accuracy_score\n",
    "from sklearn.metrics import classification_report\n",
    "import re\n",
    "import string"
   ]
  },
  {
   "cell_type": "markdown",
   "id": "799effc5-94ff-4af3-8636-167fe2102c33",
   "metadata": {},
   "source": [
    "### Processing the English Training Dataset"
   ]
  },
  {
   "cell_type": "code",
   "execution_count": 10,
   "id": "800b3795-a081-47b5-9415-9f97d43d6506",
   "metadata": {},
   "outputs": [
    {
     "data": {
      "text/html": [
       "<div>\n",
       "<style scoped>\n",
       "    .dataframe tbody tr th:only-of-type {\n",
       "        vertical-align: middle;\n",
       "    }\n",
       "\n",
       "    .dataframe tbody tr th {\n",
       "        vertical-align: top;\n",
       "    }\n",
       "\n",
       "    .dataframe thead th {\n",
       "        text-align: right;\n",
       "    }\n",
       "</style>\n",
       "<table border=\"1\" class=\"dataframe\">\n",
       "  <thead>\n",
       "    <tr style=\"text-align: right;\">\n",
       "      <th></th>\n",
       "      <th>article</th>\n",
       "      <th>label</th>\n",
       "    </tr>\n",
       "  </thead>\n",
       "  <tbody>\n",
       "    <tr>\n",
       "      <th>0</th>\n",
       "      <td>Pollution caused by traditional cooking fuel i...</td>\n",
       "      <td>1</td>\n",
       "    </tr>\n",
       "    <tr>\n",
       "      <th>1</th>\n",
       "      <td>Justice Secretary Vitaliano Aguirre 2nd and Ph...</td>\n",
       "      <td>1</td>\n",
       "    </tr>\n",
       "    <tr>\n",
       "      <th>2</th>\n",
       "      <td>President Rodrigo Duterte on Monday night desc...</td>\n",
       "      <td>1</td>\n",
       "    </tr>\n",
       "    <tr>\n",
       "      <th>3</th>\n",
       "      <td>THE militant fisher folk group Pambansang Laka...</td>\n",
       "      <td>1</td>\n",
       "    </tr>\n",
       "    <tr>\n",
       "      <th>4</th>\n",
       "      <td>Magdalo Rep. Gary Alejano is willing to lead t...</td>\n",
       "      <td>1</td>\n",
       "    </tr>\n",
       "    <tr>\n",
       "      <th>...</th>\n",
       "      <td>...</td>\n",
       "      <td>...</td>\n",
       "    </tr>\n",
       "    <tr>\n",
       "      <th>22453</th>\n",
       "      <td>Indeed, everybody is shocked — just shocked! —...</td>\n",
       "      <td>0</td>\n",
       "    </tr>\n",
       "    <tr>\n",
       "      <th>22454</th>\n",
       "      <td>A TOTAL of 132,259 individuals from 28,101 fam...</td>\n",
       "      <td>1</td>\n",
       "    </tr>\n",
       "    <tr>\n",
       "      <th>22455</th>\n",
       "      <td>Shortly after Rod Duterte announced there will...</td>\n",
       "      <td>0</td>\n",
       "    </tr>\n",
       "    <tr>\n",
       "      <th>22456</th>\n",
       "      <td>President Barack Obama met for the first time ...</td>\n",
       "      <td>0</td>\n",
       "    </tr>\n",
       "    <tr>\n",
       "      <th>22457</th>\n",
       "      <td>for half the airfare.UNITED Airlines (UAL) sta...</td>\n",
       "      <td>0</td>\n",
       "    </tr>\n",
       "  </tbody>\n",
       "</table>\n",
       "<p>22458 rows × 2 columns</p>\n",
       "</div>"
      ],
      "text/plain": [
       "                                                 article label\n",
       "0      Pollution caused by traditional cooking fuel i...     1\n",
       "1      Justice Secretary Vitaliano Aguirre 2nd and Ph...     1\n",
       "2      President Rodrigo Duterte on Monday night desc...     1\n",
       "3      THE militant fisher folk group Pambansang Laka...     1\n",
       "4      Magdalo Rep. Gary Alejano is willing to lead t...     1\n",
       "...                                                  ...   ...\n",
       "22453  Indeed, everybody is shocked — just shocked! —...     0\n",
       "22454  A TOTAL of 132,259 individuals from 28,101 fam...     1\n",
       "22455  Shortly after Rod Duterte announced there will...     0\n",
       "22456  President Barack Obama met for the first time ...     0\n",
       "22457  for half the airfare.UNITED Airlines (UAL) sta...     0\n",
       "\n",
       "[22458 rows x 2 columns]"
      ]
     },
     "execution_count": 10,
     "metadata": {},
     "output_type": "execute_result"
    }
   ],
   "source": [
    "df = pd.read_csv(\"dataset2.csv\")\n",
    "df.drop(columns=[\"Headline\",\"Authors\",\"Date\",\"URL\",\"Brand\"],inplace=True)\n",
    "df.loc[df[\"Label\"]==\"Credible\",[\"Label\"]] = 1\n",
    "df.loc[df[\"Label\"]==\"Not Credible\",[\"Label\"]] = 0\n",
    "df.rename(columns={\"Label\":\"label\",\"Content\":\"article\"},inplace=True)\n",
    "df"
   ]
  },
  {
   "cell_type": "markdown",
   "id": "a76352b1-7753-46b5-a4c1-5cd011c20bfa",
   "metadata": {},
   "source": [
    "##### Checking for Null data points"
   ]
  },
  {
   "cell_type": "code",
   "execution_count": 24,
   "id": "c4616567-a2fa-42c8-9ac4-102299f46e5d",
   "metadata": {},
   "outputs": [
    {
     "data": {
      "text/plain": [
       "article    0\n",
       "label      0\n",
       "dtype: int64"
      ]
     },
     "execution_count": 24,
     "metadata": {},
     "output_type": "execute_result"
    }
   ],
   "source": [
    "df.isnull().sum()"
   ]
  },
  {
   "cell_type": "markdown",
   "id": "783c5253-1bf1-46ac-98fa-e61b4fd3264d",
   "metadata": {},
   "source": [
    "### Extracting data for testing"
   ]
  },
  {
   "cell_type": "code",
   "execution_count": null,
   "id": "81bcc36d-b198-47bd-a881-8cbff8b18bb2",
   "metadata": {},
   "outputs": [],
   "source": []
  },
  {
   "cell_type": "markdown",
   "id": "5c9b60e7-4acc-49f5-8891-1b8f819fd664",
   "metadata": {},
   "source": [
    "### Function for cleaning up the text"
   ]
  },
  {
   "cell_type": "code",
   "execution_count": 12,
   "id": "be939311-8c11-4aff-ab69-a0ebbb47ca2b",
   "metadata": {},
   "outputs": [],
   "source": [
    "def cleantext(text):\n",
    "    text = text.lower()\n",
    "    text = re.sub('\\[.*?\\]', '', text)\n",
    "    text = re.sub(\"\\\\W\",\" \",text) \n",
    "    text = re.sub('https?://\\S+|www\\.\\S+', '', text)\n",
    "    text = re.sub('<.*?>+', '', text)\n",
    "    text = re.sub('[%s]' % re.escape(string.punctuation), '', text)\n",
    "    text = re.sub('\\n', '', text)\n",
    "    text = re.sub('\\w*\\d\\w*', '', text)    \n",
    "    return text\n",
    "\n",
    "df[\"article\"] = df[\"article\"].apply(wordopt)"
   ]
  },
  {
   "cell_type": "markdown",
   "id": "a829b02f-ff85-44b4-a25d-089d6d75c8a9",
   "metadata": {},
   "source": [
    "### Defining Variables"
   ]
  },
  {
   "cell_type": "code",
   "execution_count": 26,
   "id": "6f07f6d9-058c-4bae-9238-36aaafd235e2",
   "metadata": {},
   "outputs": [],
   "source": [
    "x = df[\"article\"]\n",
    "y = df[\"label\"]\n",
    "y=y.astype('int')"
   ]
  },
  {
   "cell_type": "markdown",
   "id": "132045fb-6db3-459b-9f6d-478a7a238eff",
   "metadata": {},
   "source": [
    "### Split to Training and Testing Sets"
   ]
  },
  {
   "cell_type": "code",
   "execution_count": 27,
   "id": "a2e8019d-e1bd-41fb-8460-2a5ad1880822",
   "metadata": {},
   "outputs": [],
   "source": [
    "x_train, x_test, y_train, y_test = train_test_split(x, y, test_size=0.25)"
   ]
  },
  {
   "cell_type": "markdown",
   "id": "9afe220e-99c7-402b-a225-3338f1d2728f",
   "metadata": {},
   "source": [
    "### Vectorizing text"
   ]
  },
  {
   "cell_type": "code",
   "execution_count": 28,
   "id": "d96a33b8-24e4-4f7d-a666-0a912a0557ca",
   "metadata": {},
   "outputs": [],
   "source": [
    "from sklearn.feature_extraction.text import TfidfVectorizer"
   ]
  },
  {
   "cell_type": "code",
   "execution_count": 29,
   "id": "bd607b13-5dce-4a08-82a5-f0ac13c5979f",
   "metadata": {},
   "outputs": [],
   "source": [
    "vectorization = TfidfVectorizer()\n",
    "xv_train = vectorization.fit_transform(x_train)\n",
    "xv_test = vectorization.transform(x_test)"
   ]
  },
  {
   "cell_type": "markdown",
   "id": "87a61b80-ce4c-45aa-a17f-95dd5195a8b7",
   "metadata": {},
   "source": [
    "### Creating Logistic Regression Model"
   ]
  },
  {
   "cell_type": "code",
   "execution_count": 30,
   "id": "e60dbf8a-f1dc-401c-b6b7-9c70dcb570aa",
   "metadata": {},
   "outputs": [],
   "source": [
    "from sklearn.linear_model import LogisticRegression"
   ]
  },
  {
   "cell_type": "code",
   "execution_count": 31,
   "id": "3b8631a9-c8be-4f0f-ad44-46e0d6aee95d",
   "metadata": {},
   "outputs": [
    {
     "data": {
      "text/plain": [
       "LogisticRegression()"
      ]
     },
     "execution_count": 31,
     "metadata": {},
     "output_type": "execute_result"
    }
   ],
   "source": [
    "LR = LogisticRegression()\n",
    "LR.fit(xv_train,y_train)"
   ]
  },
  {
   "cell_type": "code",
   "execution_count": 33,
   "id": "93ca1075-ab87-4b06-80e2-970027f2166a",
   "metadata": {},
   "outputs": [],
   "source": [
    "pred_lr=LR.predict(xv_test)"
   ]
  },
  {
   "cell_type": "code",
   "execution_count": 34,
   "id": "5de4b1c2-f28a-4cf5-ad11-9d768b659e6c",
   "metadata": {},
   "outputs": [
    {
     "data": {
      "text/plain": [
       "0.9506678539626002"
      ]
     },
     "execution_count": 34,
     "metadata": {},
     "output_type": "execute_result"
    }
   ],
   "source": [
    "LR.score(xv_test, y_test)"
   ]
  },
  {
   "cell_type": "code",
   "execution_count": 35,
   "id": "8cd700a8-6504-4b05-affe-08f11c133a7a",
   "metadata": {},
   "outputs": [
    {
     "name": "stdout",
     "output_type": "stream",
     "text": [
      "              precision    recall  f1-score   support\n",
      "\n",
      "           0       0.95      0.91      0.93      1935\n",
      "           1       0.95      0.97      0.96      3680\n",
      "\n",
      "    accuracy                           0.95      5615\n",
      "   macro avg       0.95      0.94      0.94      5615\n",
      "weighted avg       0.95      0.95      0.95      5615\n",
      "\n"
     ]
    }
   ],
   "source": [
    "print(classification_report(y_test, pred_lr))"
   ]
  },
  {
   "cell_type": "markdown",
   "id": "9b7fbd09-21f5-4417-8a07-d5d686912fcb",
   "metadata": {},
   "source": [
    "### Testing the Models"
   ]
  },
  {
   "cell_type": "code",
   "execution_count": 38,
   "id": "4ffe942d-e476-4c25-b0ae-af9ea777cc5e",
   "metadata": {},
   "outputs": [],
   "source": [
    "def output_lable(n):\n",
    "    if n == 0:\n",
    "        return \"Fake News\"\n",
    "    elif n == 1:\n",
    "        return \"Not A Fake News\"\n",
    "    \n",
    "def manual_testing(news):\n",
    "    testing_news = {\"text\":[news]}\n",
    "    new_def_test = pd.DataFrame(testing_news)\n",
    "    new_def_test[\"text\"] = new_def_test[\"text\"].apply(cleantext) \n",
    "    new_x_test = new_def_test[\"text\"]\n",
    "    new_xv_test = vectorization.transform(new_x_test)\n",
    "    pred_LR = LR.predict(new_xv_test)\n",
    "\n",
    "    return print(\"\\n\\nLR Prediction: {} \".format(output_lable(pred_LR[0])))"
   ]
  },
  {
   "cell_type": "code",
   "execution_count": 45,
   "id": "c6fd16c6-aaa0-4559-a69c-d7d122260469",
   "metadata": {},
   "outputs": [
    {
     "name": "stdin",
     "output_type": "stream",
     "text": [
      " \"Our lawyers have verified. A warrant of arrest was issued,\" Kinumpirma na mismo ni Rappler CEO Maria Ressa na nailabas na umano ang warrant of arrest laban sa kanya kaugnay sa kasong tax evasion. Ayon sa kampo ni Ressa, magpa-piyansa sila agad-agad sa Lunes kung sakaling arestuhin ito ng Linggo. Nahaharap sa 4 na kasong tax evasion si Ressa. Isa pang kaso ang inihain sa Pasig court kaugnay naman sa paglabag sa Section 255 ng National Internal Revenue Code (NIRC) at ang hindi pagsusumite ng ulat tungkol sa total quarterly sales receipts na mula sa Philippine Depositary Receipts (PDR) noong 2015. Alam niyo bang naging laman ng balita ang Rappler noong Pebrero 2018 dahil sa malisyosong impormasyon ikinalat nila laban kay kay dating Special Assistant to the President Bong Go? Panoorin kung paano sinermonan ni Presidente Duterte ang reporter ng Rappler dahil sa maling impormasyon na ikinalat ng mga ito kay Go. Tila positibo naman tinanggap ng ilang netizens ang balitang ito. Source: GMA\n"
     ]
    },
    {
     "name": "stdout",
     "output_type": "stream",
     "text": [
      "\n",
      "\n",
      "LR Prediction: Fake News \n"
     ]
    }
   ],
   "source": [
    "news = str(input())\n",
    "manual_testing(news)"
   ]
  },
  {
   "cell_type": "markdown",
   "id": "d49b9cb7-0d4c-4ea7-8964-1b8c9efe3e81",
   "metadata": {},
   "source": [
    "### Graphing Accuracy of Models"
   ]
  },
  {
   "cell_type": "code",
   "execution_count": 49,
   "id": "5a6d0b72-658d-4bc5-a273-1822b8af38bc",
   "metadata": {},
   "outputs": [],
   "source": [
    "import matplotlib.pyplot as plt"
   ]
  },
  {
   "cell_type": "code",
   "execution_count": null,
   "id": "f7b95cf1-29c4-4070-8435-d0d588151afe",
   "metadata": {},
   "outputs": [],
   "source": []
  }
 ],
 "metadata": {
  "kernelspec": {
   "display_name": "Python 3",
   "language": "python",
   "name": "python3"
  },
  "language_info": {
   "codemirror_mode": {
    "name": "ipython",
    "version": 3
   },
   "file_extension": ".py",
   "mimetype": "text/x-python",
   "name": "python",
   "nbconvert_exporter": "python",
   "pygments_lexer": "ipython3",
   "version": "3.8.8"
  }
 },
 "nbformat": 4,
 "nbformat_minor": 5
}
