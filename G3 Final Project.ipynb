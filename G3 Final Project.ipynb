{
 "cells": [
  {
   "cell_type": "code",
   "execution_count": 1,
   "id": "5ffb1c3b-b584-478e-adbf-1e9a8218733a",
   "metadata": {},
   "outputs": [],
   "source": [
    "import pandas as pd\n",
    "import numpy as np\n",
    "import seaborn as sns\n",
    "import matplotlib.pyplot as plt\n",
    "from sklearn.model_selection import train_test_split\n",
    "from sklearn.metrics import accuracy_score\n",
    "from sklearn.metrics import classification_report\n",
    "import re\n",
    "import string"
   ]
  },
  {
   "cell_type": "markdown",
   "id": "799effc5-94ff-4af3-8636-167fe2102c33",
   "metadata": {},
   "source": [
    "### Processing the English Training Dataset"
   ]
  },
  {
   "cell_type": "code",
   "execution_count": 2,
   "id": "800b3795-a081-47b5-9415-9f97d43d6506",
   "metadata": {},
   "outputs": [
    {
     "data": {
      "text/html": [
       "<div>\n",
       "<style scoped>\n",
       "    .dataframe tbody tr th:only-of-type {\n",
       "        vertical-align: middle;\n",
       "    }\n",
       "\n",
       "    .dataframe tbody tr th {\n",
       "        vertical-align: top;\n",
       "    }\n",
       "\n",
       "    .dataframe thead th {\n",
       "        text-align: right;\n",
       "    }\n",
       "</style>\n",
       "<table border=\"1\" class=\"dataframe\">\n",
       "  <thead>\n",
       "    <tr style=\"text-align: right;\">\n",
       "      <th></th>\n",
       "      <th>article</th>\n",
       "      <th>label</th>\n",
       "    </tr>\n",
       "  </thead>\n",
       "  <tbody>\n",
       "    <tr>\n",
       "      <th>0</th>\n",
       "      <td>Pollution caused by traditional cooking fuel i...</td>\n",
       "      <td>1</td>\n",
       "    </tr>\n",
       "    <tr>\n",
       "      <th>1</th>\n",
       "      <td>Justice Secretary Vitaliano Aguirre 2nd and Ph...</td>\n",
       "      <td>1</td>\n",
       "    </tr>\n",
       "    <tr>\n",
       "      <th>2</th>\n",
       "      <td>President Rodrigo Duterte on Monday night desc...</td>\n",
       "      <td>1</td>\n",
       "    </tr>\n",
       "    <tr>\n",
       "      <th>3</th>\n",
       "      <td>THE militant fisher folk group Pambansang Laka...</td>\n",
       "      <td>1</td>\n",
       "    </tr>\n",
       "    <tr>\n",
       "      <th>4</th>\n",
       "      <td>Magdalo Rep. Gary Alejano is willing to lead t...</td>\n",
       "      <td>1</td>\n",
       "    </tr>\n",
       "    <tr>\n",
       "      <th>...</th>\n",
       "      <td>...</td>\n",
       "      <td>...</td>\n",
       "    </tr>\n",
       "    <tr>\n",
       "      <th>22453</th>\n",
       "      <td>Indeed, everybody is shocked — just shocked! —...</td>\n",
       "      <td>0</td>\n",
       "    </tr>\n",
       "    <tr>\n",
       "      <th>22454</th>\n",
       "      <td>A TOTAL of 132,259 individuals from 28,101 fam...</td>\n",
       "      <td>1</td>\n",
       "    </tr>\n",
       "    <tr>\n",
       "      <th>22455</th>\n",
       "      <td>Shortly after Rod Duterte announced there will...</td>\n",
       "      <td>0</td>\n",
       "    </tr>\n",
       "    <tr>\n",
       "      <th>22456</th>\n",
       "      <td>President Barack Obama met for the first time ...</td>\n",
       "      <td>0</td>\n",
       "    </tr>\n",
       "    <tr>\n",
       "      <th>22457</th>\n",
       "      <td>for half the airfare.UNITED Airlines (UAL) sta...</td>\n",
       "      <td>0</td>\n",
       "    </tr>\n",
       "  </tbody>\n",
       "</table>\n",
       "<p>22458 rows × 2 columns</p>\n",
       "</div>"
      ],
      "text/plain": [
       "                                                 article label\n",
       "0      Pollution caused by traditional cooking fuel i...     1\n",
       "1      Justice Secretary Vitaliano Aguirre 2nd and Ph...     1\n",
       "2      President Rodrigo Duterte on Monday night desc...     1\n",
       "3      THE militant fisher folk group Pambansang Laka...     1\n",
       "4      Magdalo Rep. Gary Alejano is willing to lead t...     1\n",
       "...                                                  ...   ...\n",
       "22453  Indeed, everybody is shocked — just shocked! —...     0\n",
       "22454  A TOTAL of 132,259 individuals from 28,101 fam...     1\n",
       "22455  Shortly after Rod Duterte announced there will...     0\n",
       "22456  President Barack Obama met for the first time ...     0\n",
       "22457  for half the airfare.UNITED Airlines (UAL) sta...     0\n",
       "\n",
       "[22458 rows x 2 columns]"
      ]
     },
     "execution_count": 2,
     "metadata": {},
     "output_type": "execute_result"
    }
   ],
   "source": [
    "df = pd.read_csv(\"RawEnglishDataset.csv\")\n",
    "df.drop(columns=[\"Headline\",\"Authors\",\"Date\",\"URL\",\"Brand\"],inplace=True)\n",
    "df.loc[df[\"Label\"]==\"Credible\",[\"Label\"]] = 1\n",
    "df.loc[df[\"Label\"]==\"Not Credible\",[\"Label\"]] = 0\n",
    "df.rename(columns={\"Label\":\"label\",\"Content\":\"article\"},inplace=True)\n",
    "df"
   ]
  },
  {
   "cell_type": "markdown",
   "id": "a76352b1-7753-46b5-a4c1-5cd011c20bfa",
   "metadata": {},
   "source": [
    "##### Checking for Null data points"
   ]
  },
  {
   "cell_type": "code",
   "execution_count": 3,
   "id": "c4616567-a2fa-42c8-9ac4-102299f46e5d",
   "metadata": {},
   "outputs": [
    {
     "data": {
      "text/plain": [
       "article    0\n",
       "label      0\n",
       "dtype: int64"
      ]
     },
     "execution_count": 3,
     "metadata": {},
     "output_type": "execute_result"
    }
   ],
   "source": [
    "df.isnull().sum()"
   ]
  },
  {
   "cell_type": "markdown",
   "id": "783c5253-1bf1-46ac-98fa-e61b4fd3264d",
   "metadata": {},
   "source": [
    "### Extracting data for testing"
   ]
  },
  {
   "cell_type": "code",
   "execution_count": 4,
   "id": "81bcc36d-b198-47bd-a881-8cbff8b18bb2",
   "metadata": {},
   "outputs": [],
   "source": [
    "df.shape\n",
    "df = df.sample(frac = 1)\n",
    "testing_df = df.tail(378)\n",
    "for i in range(22457,22079,-1):\n",
    "    df.drop([i], axis = 0, inplace = True)"
   ]
  },
  {
   "cell_type": "markdown",
   "id": "5c9b60e7-4acc-49f5-8891-1b8f819fd664",
   "metadata": {},
   "source": [
    "### Function for cleaning up the text"
   ]
  },
  {
   "cell_type": "code",
   "execution_count": 5,
   "id": "be939311-8c11-4aff-ab69-a0ebbb47ca2b",
   "metadata": {},
   "outputs": [],
   "source": [
    "def cleantext(text):\n",
    "    text = text.lower()\n",
    "    text = re.sub('\\[.*?\\]', '', text)\n",
    "    text = re.sub(\"\\\\W\",\" \",text) \n",
    "    text = re.sub('https?://\\S+|www\\.\\S+', '', text)\n",
    "    text = re.sub('<.*?>+', '', text)\n",
    "    text = re.sub('[%s]' % re.escape(string.punctuation), '', text)\n",
    "    text = re.sub('\\n', '', text)\n",
    "    text = re.sub('\\w*\\d\\w*', '', text)    \n",
    "    return text\n",
    "\n",
    "df[\"article\"] = df[\"article\"].apply(cleantext)"
   ]
  },
  {
   "cell_type": "markdown",
   "id": "a829b02f-ff85-44b4-a25d-089d6d75c8a9",
   "metadata": {},
   "source": [
    "### Defining Variables"
   ]
  },
  {
   "cell_type": "code",
   "execution_count": 6,
   "id": "6f07f6d9-058c-4bae-9238-36aaafd235e2",
   "metadata": {},
   "outputs": [],
   "source": [
    "x = df[\"article\"]\n",
    "y = df[\"label\"]\n",
    "y=y.astype('int')"
   ]
  },
  {
   "cell_type": "markdown",
   "id": "132045fb-6db3-459b-9f6d-478a7a238eff",
   "metadata": {},
   "source": [
    "### Split to Training and Testing Sets"
   ]
  },
  {
   "cell_type": "code",
   "execution_count": 7,
   "id": "a2e8019d-e1bd-41fb-8460-2a5ad1880822",
   "metadata": {},
   "outputs": [],
   "source": [
    "x_train, x_test, y_train, y_test = train_test_split(x, y, test_size=0.25)"
   ]
  },
  {
   "cell_type": "markdown",
   "id": "9afe220e-99c7-402b-a225-3338f1d2728f",
   "metadata": {},
   "source": [
    "### Vectorizing text"
   ]
  },
  {
   "cell_type": "code",
   "execution_count": 8,
   "id": "d96a33b8-24e4-4f7d-a666-0a912a0557ca",
   "metadata": {},
   "outputs": [],
   "source": [
    "from sklearn.feature_extraction.text import TfidfVectorizer"
   ]
  },
  {
   "cell_type": "code",
   "execution_count": 9,
   "id": "bd607b13-5dce-4a08-82a5-f0ac13c5979f",
   "metadata": {},
   "outputs": [],
   "source": [
    "vectorization = TfidfVectorizer()\n",
    "xv_train = vectorization.fit_transform(x_train)\n",
    "xv_test = vectorization.transform(x_test)"
   ]
  },
  {
   "cell_type": "markdown",
   "id": "87a61b80-ce4c-45aa-a17f-95dd5195a8b7",
   "metadata": {},
   "source": [
    "### Logistic Regression Model"
   ]
  },
  {
   "cell_type": "code",
   "execution_count": 10,
   "id": "e60dbf8a-f1dc-401c-b6b7-9c70dcb570aa",
   "metadata": {},
   "outputs": [],
   "source": [
    "from sklearn.linear_model import LogisticRegression"
   ]
  },
  {
   "cell_type": "code",
   "execution_count": 11,
   "id": "3b8631a9-c8be-4f0f-ad44-46e0d6aee95d",
   "metadata": {},
   "outputs": [
    {
     "data": {
      "text/plain": [
       "LogisticRegression()"
      ]
     },
     "execution_count": 11,
     "metadata": {},
     "output_type": "execute_result"
    }
   ],
   "source": [
    "LR = LogisticRegression()\n",
    "LR.fit(xv_train,y_train)"
   ]
  },
  {
   "cell_type": "code",
   "execution_count": 12,
   "id": "93ca1075-ab87-4b06-80e2-970027f2166a",
   "metadata": {},
   "outputs": [],
   "source": [
    "pred_lr=LR.predict(xv_test)"
   ]
  },
  {
   "cell_type": "code",
   "execution_count": 13,
   "id": "5de4b1c2-f28a-4cf5-ad11-9d768b659e6c",
   "metadata": {},
   "outputs": [
    {
     "data": {
      "text/plain": [
       "0.9514492753623188"
      ]
     },
     "execution_count": 13,
     "metadata": {},
     "output_type": "execute_result"
    }
   ],
   "source": [
    "LR.score(xv_test, y_test)"
   ]
  },
  {
   "cell_type": "code",
   "execution_count": 14,
   "id": "8cd700a8-6504-4b05-affe-08f11c133a7a",
   "metadata": {},
   "outputs": [
    {
     "name": "stdout",
     "output_type": "stream",
     "text": [
      "              precision    recall  f1-score   support\n",
      "\n",
      "           0       0.95      0.90      0.93      1865\n",
      "           1       0.95      0.98      0.96      3655\n",
      "\n",
      "    accuracy                           0.95      5520\n",
      "   macro avg       0.95      0.94      0.95      5520\n",
      "weighted avg       0.95      0.95      0.95      5520\n",
      "\n"
     ]
    }
   ],
   "source": [
    "print(classification_report(y_test, pred_lr))"
   ]
  },
  {
   "cell_type": "markdown",
   "id": "e9f0d7e1-a360-4300-9a35-eb0f1e9cc95f",
   "metadata": {},
   "source": [
    "### Decision Tree Classification"
   ]
  },
  {
   "cell_type": "code",
   "execution_count": 15,
   "id": "a391558d-6162-479f-89d8-e32e4167cba1",
   "metadata": {},
   "outputs": [],
   "source": [
    "from sklearn.tree import DecisionTreeClassifier"
   ]
  },
  {
   "cell_type": "code",
   "execution_count": 16,
   "id": "798a4c35-6341-48b9-93ed-f140c328be6e",
   "metadata": {},
   "outputs": [
    {
     "data": {
      "text/plain": [
       "DecisionTreeClassifier()"
      ]
     },
     "execution_count": 16,
     "metadata": {},
     "output_type": "execute_result"
    }
   ],
   "source": [
    "DT = DecisionTreeClassifier()\n",
    "DT.fit(xv_train, y_train)"
   ]
  },
  {
   "cell_type": "code",
   "execution_count": 17,
   "id": "ab9f3286-a756-4202-b999-babd43085f3f",
   "metadata": {},
   "outputs": [],
   "source": [
    "pred_dt = DT.predict(xv_test)"
   ]
  },
  {
   "cell_type": "code",
   "execution_count": 18,
   "id": "7c5b3e06-d6fd-4234-b48a-6525b8a3c6a9",
   "metadata": {},
   "outputs": [
    {
     "data": {
      "text/plain": [
       "0.8507246376811595"
      ]
     },
     "execution_count": 18,
     "metadata": {},
     "output_type": "execute_result"
    }
   ],
   "source": [
    "DT.score(xv_test, y_test)"
   ]
  },
  {
   "cell_type": "code",
   "execution_count": 19,
   "id": "97a7b113-020a-4033-a8ea-2ab49fe114e0",
   "metadata": {},
   "outputs": [
    {
     "name": "stdout",
     "output_type": "stream",
     "text": [
      "              precision    recall  f1-score   support\n",
      "\n",
      "           0       0.78      0.78      0.78      1865\n",
      "           1       0.89      0.89      0.89      3655\n",
      "\n",
      "    accuracy                           0.85      5520\n",
      "   macro avg       0.83      0.83      0.83      5520\n",
      "weighted avg       0.85      0.85      0.85      5520\n",
      "\n"
     ]
    }
   ],
   "source": [
    "print(classification_report(y_test, pred_dt))"
   ]
  },
  {
   "cell_type": "markdown",
   "id": "98fb13c9-c2f5-4820-831c-19b0609c7a61",
   "metadata": {},
   "source": [
    "### Gradient Boosting Classifier"
   ]
  },
  {
   "cell_type": "code",
   "execution_count": 20,
   "id": "e4e8df92-b153-4676-8602-7816dc61c083",
   "metadata": {},
   "outputs": [],
   "source": [
    "from sklearn.ensemble import GradientBoostingClassifier"
   ]
  },
  {
   "cell_type": "code",
   "execution_count": 21,
   "id": "9a64fd46-0e7a-4f6c-bde0-3a29a2d58d4e",
   "metadata": {},
   "outputs": [
    {
     "data": {
      "text/plain": [
       "GradientBoostingClassifier(random_state=0)"
      ]
     },
     "execution_count": 21,
     "metadata": {},
     "output_type": "execute_result"
    }
   ],
   "source": [
    "GBC = GradientBoostingClassifier(random_state=0)\n",
    "GBC.fit(xv_train, y_train)"
   ]
  },
  {
   "cell_type": "code",
   "execution_count": 22,
   "id": "7952600a-0584-49a6-859b-97313ac18eaa",
   "metadata": {},
   "outputs": [],
   "source": [
    "pred_gbc = GBC.predict(xv_test)"
   ]
  },
  {
   "cell_type": "code",
   "execution_count": 23,
   "id": "12379c66-7738-4861-aceb-d2ea95db4f15",
   "metadata": {},
   "outputs": [
    {
     "data": {
      "text/plain": [
       "0.922463768115942"
      ]
     },
     "execution_count": 23,
     "metadata": {},
     "output_type": "execute_result"
    }
   ],
   "source": [
    "GBC.score(xv_test, y_test)"
   ]
  },
  {
   "cell_type": "code",
   "execution_count": 24,
   "id": "2a339131-f5e2-4897-a71e-b9c865ec0e21",
   "metadata": {},
   "outputs": [
    {
     "name": "stdout",
     "output_type": "stream",
     "text": [
      "              precision    recall  f1-score   support\n",
      "\n",
      "           0       0.92      0.84      0.88      1865\n",
      "           1       0.92      0.96      0.94      3655\n",
      "\n",
      "    accuracy                           0.92      5520\n",
      "   macro avg       0.92      0.90      0.91      5520\n",
      "weighted avg       0.92      0.92      0.92      5520\n",
      "\n"
     ]
    }
   ],
   "source": [
    "print(classification_report(y_test, pred_gbc))"
   ]
  },
  {
   "cell_type": "markdown",
   "id": "23e72ae6-1768-48f0-ae1e-ce2338455f43",
   "metadata": {},
   "source": [
    "### Random Forest Classifier"
   ]
  },
  {
   "cell_type": "code",
   "execution_count": 25,
   "id": "fabb3ecc-3086-4822-930f-a4abed9e6e7a",
   "metadata": {},
   "outputs": [],
   "source": [
    "from sklearn.ensemble import RandomForestClassifier"
   ]
  },
  {
   "cell_type": "code",
   "execution_count": 26,
   "id": "609341a5-dc0f-4775-9dfd-98e7f03cf7b7",
   "metadata": {},
   "outputs": [
    {
     "data": {
      "text/plain": [
       "RandomForestClassifier(random_state=0)"
      ]
     },
     "execution_count": 26,
     "metadata": {},
     "output_type": "execute_result"
    }
   ],
   "source": [
    "RFC = RandomForestClassifier(random_state=0)\n",
    "RFC.fit(xv_train, y_train)"
   ]
  },
  {
   "cell_type": "code",
   "execution_count": 27,
   "id": "d9f8a51c-9d3d-4eef-b8ac-725f21f2ecde",
   "metadata": {},
   "outputs": [],
   "source": [
    "pred_rfc = RFC.predict(xv_test)"
   ]
  },
  {
   "cell_type": "code",
   "execution_count": 28,
   "id": "95d60f8f-2bfb-47a1-a26b-66fc00c23af9",
   "metadata": {},
   "outputs": [
    {
     "data": {
      "text/plain": [
       "0.9222826086956522"
      ]
     },
     "execution_count": 28,
     "metadata": {},
     "output_type": "execute_result"
    }
   ],
   "source": [
    "RFC.score(xv_test, y_test)"
   ]
  },
  {
   "cell_type": "code",
   "execution_count": 29,
   "id": "3c19253a-3f97-4be7-b0ca-66d1f2d56344",
   "metadata": {},
   "outputs": [
    {
     "name": "stdout",
     "output_type": "stream",
     "text": [
      "              precision    recall  f1-score   support\n",
      "\n",
      "           0       0.93      0.83      0.88      1865\n",
      "           1       0.92      0.97      0.94      3655\n",
      "\n",
      "    accuracy                           0.92      5520\n",
      "   macro avg       0.92      0.90      0.91      5520\n",
      "weighted avg       0.92      0.92      0.92      5520\n",
      "\n"
     ]
    }
   ],
   "source": [
    "print(classification_report(y_test, pred_rfc))"
   ]
  },
  {
   "cell_type": "markdown",
   "id": "9b7fbd09-21f5-4417-8a07-d5d686912fcb",
   "metadata": {},
   "source": [
    "### Testing the Models"
   ]
  },
  {
   "cell_type": "code",
   "execution_count": 30,
   "id": "4ffe942d-e476-4c25-b0ae-af9ea777cc5e",
   "metadata": {},
   "outputs": [],
   "source": [
    "def output_label(n):\n",
    "    if n == 0:\n",
    "        return \"Fake News\"\n",
    "    elif n == 1:\n",
    "        return \"Real News\"\n",
    "    \n",
    "def LR_test(news):\n",
    "    testing_news = {\"text\":[news]}\n",
    "    new_def_test = pd.DataFrame(testing_news)\n",
    "    new_def_test[\"text\"] = new_def_test[\"text\"].apply(cleantext) \n",
    "    new_x_test = new_def_test[\"text\"]\n",
    "    new_xv_test = vectorization.transform(new_x_test)\n",
    "    pred_LR = LR.predict(new_xv_test)\n",
    "    return pred_LR[0]\n",
    "\n",
    "def DT_test(news):\n",
    "    testing_news = {\"text\":[news]}\n",
    "    new_def_test = pd.DataFrame(testing_news)\n",
    "    new_def_test[\"text\"] = new_def_test[\"text\"].apply(cleantext) \n",
    "    new_x_test = new_def_test[\"text\"]\n",
    "    new_xv_test = vectorization.transform(new_x_test)\n",
    "    pred_DT = DT.predict(new_xv_test)\n",
    "    return pred_DT[0]\n",
    "\n",
    "def GBC_test(news):\n",
    "    testing_news = {\"text\":[news]}\n",
    "    new_def_test = pd.DataFrame(testing_news)\n",
    "    new_def_test[\"text\"] = new_def_test[\"text\"].apply(cleantext) \n",
    "    new_x_test = new_def_test[\"text\"]\n",
    "    new_xv_test = vectorization.transform(new_x_test)\n",
    "    pred_GBC = GBC.predict(new_xv_test)\n",
    "    return pred_GBC[0]\n",
    "    \n",
    "def RFC_test(news):\n",
    "    testing_news = {\"text\":[news]}\n",
    "    new_def_test = pd.DataFrame(testing_news)\n",
    "    new_def_test[\"text\"] = new_def_test[\"text\"].apply(cleantext) \n",
    "    new_x_test = new_def_test[\"text\"]\n",
    "    new_xv_test = vectorization.transform(new_x_test)\n",
    "    pred_RFC = RFC.predict(new_xv_test)\n",
    "    return pred_RFC[0]\n",
    "\n",
    "def manual_testing(news):\n",
    "    return print(f'''\n",
    "    \n",
    "    LR Prediction: {output_label(LR_test(news))}\n",
    "    DT Prediction: {output_label(DT_test(news))}\n",
    "    GBC Prediction: {output_label(GBC_test(news))}\n",
    "    RFC Prediction: {output_label(RFC_test(news))}\n",
    "    ''')\n",
    "    \n",
    "def classify_result(correct, prediction):\n",
    "    if correct == 1 and prediction == 1:\n",
    "        return \"True Positive\"\n",
    "    elif correct == 1 and prediction == 0:\n",
    "        return \"False Negative\"\n",
    "    elif correct == 0 and prediction == 0:\n",
    "        return \"True Negative\"\n",
    "    elif correct == 0 and prediction == 1:\n",
    "        return \"False Positive\"\n",
    "    "
   ]
  },
  {
   "cell_type": "code",
   "execution_count": 40,
   "id": "bd4af8e8-4834-479d-9848-0153afc81054",
   "metadata": {},
   "outputs": [],
   "source": [
    "analysis_df = testing_df.copy()"
   ]
  },
  {
   "cell_type": "code",
   "execution_count": 43,
   "id": "d424df1f-6105-4b64-9927-39c0ceaf075d",
   "metadata": {},
   "outputs": [],
   "source": [
    "analysis_df.loc[:,[\"LR\"]] = analysis_df[\"article\"].apply(LR_test)\n",
    "analysis_df.loc[:,[\"LR\"]] = np.vectorize(classify_result)(analysis_df[\"label\"],analysis_df[\"LR\"])\n",
    "\n",
    "analysis_df.loc[:,[\"DT\"]] = analysis_df[\"article\"].apply(DT_test)\n",
    "analysis_df.loc[:,[\"DT\"]] = np.vectorize(classify_result)(analysis_df[\"label\"],analysis_df[\"DT\"])\n",
    "\n",
    "analysis_df.loc[:,[\"GBC\"]] = analysis_df[\"article\"].apply(GBC_test)\n",
    "analysis_df.loc[:,[\"GBC\"]] = np.vectorize(classify_result)(analysis_df[\"label\"],analysis_df[\"GBC\"])\n",
    "\n",
    "analysis_df.loc[:,[\"RFC\"]] = analysis_df[\"article\"].apply(RFC_test)\n",
    "analysis_df.loc[:,[\"RFC\"]] = np.vectorize(classify_result)(analysis_df[\"label\"],analysis_df[\"RFC\"])\n",
    "\n",
    "analysis_df.to_csv(\"test_run.csv\", index=False)"
   ]
  },
  {
   "cell_type": "code",
   "execution_count": 46,
   "id": "74a2b190-a9b4-4c31-8926-5c1f504e2657",
   "metadata": {},
   "outputs": [
    {
     "name": "stdout",
     "output_type": "stream",
     "text": [
      "256\n",
      "114\n",
      "5\n",
      "3\n"
     ]
    }
   ],
   "source": [
    "print(analysis_df['LR'].str.contains('True Positive').value_counts()[True])\n",
    "print(analysis_df['LR'].str.contains('True Negative').value_counts()[True])\n",
    "print(analysis_df['LR'].str.contains('False Positive').value_counts()[True])\n",
    "print(analysis_df['LR'].str.contains('False Negative').value_counts()[True])"
   ]
  },
  {
   "cell_type": "code",
   "execution_count": 47,
   "id": "2e07fb42-a1ec-4012-96d2-fb09e9767850",
   "metadata": {},
   "outputs": [
    {
     "name": "stdout",
     "output_type": "stream",
     "text": [
      "248\n",
      "110\n",
      "9\n",
      "11\n"
     ]
    }
   ],
   "source": [
    "print(analysis_df['DT'].str.contains('True Positive').value_counts()[True])\n",
    "print(analysis_df['DT'].str.contains('True Negative').value_counts()[True])\n",
    "print(analysis_df['DT'].str.contains('False Positive').value_counts()[True])\n",
    "print(analysis_df['DT'].str.contains('False Negative').value_counts()[True])"
   ]
  },
  {
   "cell_type": "code",
   "execution_count": 48,
   "id": "62e66890-ba34-4987-9e47-bf25d8522ef7",
   "metadata": {},
   "outputs": [
    {
     "name": "stdout",
     "output_type": "stream",
     "text": [
      "253\n",
      "108\n",
      "11\n",
      "6\n"
     ]
    }
   ],
   "source": [
    "print(analysis_df['GBC'].str.contains('True Positive').value_counts()[True])\n",
    "print(analysis_df['GBC'].str.contains('True Negative').value_counts()[True])\n",
    "print(analysis_df['GBC'].str.contains('False Positive').value_counts()[True])\n",
    "print(analysis_df['GBC'].str.contains('False Negative').value_counts()[True])"
   ]
  },
  {
   "cell_type": "code",
   "execution_count": 49,
   "id": "4e67e05e-ee20-409c-b9c6-2786ecbcc3e0",
   "metadata": {},
   "outputs": [
    {
     "name": "stdout",
     "output_type": "stream",
     "text": [
      "257\n",
      "117\n",
      "2\n",
      "2\n"
     ]
    }
   ],
   "source": [
    "print(analysis_df['RFC'].str.contains('True Positive').value_counts()[True])\n",
    "print(analysis_df['RFC'].str.contains('True Negative').value_counts()[True])\n",
    "print(analysis_df['RFC'].str.contains('False Positive').value_counts()[True])\n",
    "print(analysis_df['RFC'].str.contains('False Negative').value_counts()[True])"
   ]
  },
  {
   "cell_type": "code",
   "execution_count": 32,
   "id": "c6fd16c6-aaa0-4559-a69c-d7d122260469",
   "metadata": {},
   "outputs": [
    {
     "name": "stdin",
     "output_type": "stream",
     "text": [
      " hi\n"
     ]
    },
    {
     "name": "stdout",
     "output_type": "stream",
     "text": [
      "\n",
      "    \n",
      "    LR Prediction: Fake News\n",
      "    DT Prediction: Fake News\n",
      "    GBC Prediction: Fake News\n",
      "    RFC Prediction: Fake News\n",
      "    \n"
     ]
    }
   ],
   "source": [
    "news = str(input())\n",
    "manual_testing(news)"
   ]
  },
  {
   "cell_type": "code",
   "execution_count": 33,
   "id": "b268d192-d7e9-42c9-a3b2-c5907d8029bd",
   "metadata": {},
   "outputs": [
    {
     "data": {
      "text/html": [
       "<div>\n",
       "<style scoped>\n",
       "    .dataframe tbody tr th:only-of-type {\n",
       "        vertical-align: middle;\n",
       "    }\n",
       "\n",
       "    .dataframe tbody tr th {\n",
       "        vertical-align: top;\n",
       "    }\n",
       "\n",
       "    .dataframe thead th {\n",
       "        text-align: right;\n",
       "    }\n",
       "</style>\n",
       "<table border=\"1\" class=\"dataframe\">\n",
       "  <thead>\n",
       "    <tr style=\"text-align: right;\">\n",
       "      <th></th>\n",
       "      <th>article</th>\n",
       "      <th>label</th>\n",
       "      <th>LR</th>\n",
       "    </tr>\n",
       "  </thead>\n",
       "  <tbody>\n",
       "    <tr>\n",
       "      <th>9987</th>\n",
       "      <td>Heavily armed rebels of the communist-led New...</td>\n",
       "      <td>1</td>\n",
       "      <td>True Positive</td>\n",
       "    </tr>\n",
       "    <tr>\n",
       "      <th>10430</th>\n",
       "      <td>53 out of the 310 alleged rouge policemen brav...</td>\n",
       "      <td>0</td>\n",
       "      <td>False Positive</td>\n",
       "    </tr>\n",
       "    <tr>\n",
       "      <th>20684</th>\n",
       "      <td>How can some Filipinos profess to be Catholics...</td>\n",
       "      <td>1</td>\n",
       "      <td>True Positive</td>\n",
       "    </tr>\n",
       "    <tr>\n",
       "      <th>12707</th>\n",
       "      <td>The Philippine Red Cross (PRC) said it had act...</td>\n",
       "      <td>1</td>\n",
       "      <td>True Positive</td>\n",
       "    </tr>\n",
       "    <tr>\n",
       "      <th>19571</th>\n",
       "      <td>The sister-in-law of the elusive Gerardo Limli...</td>\n",
       "      <td>1</td>\n",
       "      <td>True Positive</td>\n",
       "    </tr>\n",
       "    <tr>\n",
       "      <th>...</th>\n",
       "      <td>...</td>\n",
       "      <td>...</td>\n",
       "      <td>...</td>\n",
       "    </tr>\n",
       "    <tr>\n",
       "      <th>14421</th>\n",
       "      <td>The Philippines started monitoring suspected b...</td>\n",
       "      <td>1</td>\n",
       "      <td>True Positive</td>\n",
       "    </tr>\n",
       "    <tr>\n",
       "      <th>21833</th>\n",
       "      <td>Over 200 sacks of rice and assorted relief goo...</td>\n",
       "      <td>1</td>\n",
       "      <td>True Positive</td>\n",
       "    </tr>\n",
       "    <tr>\n",
       "      <th>4907</th>\n",
       "      <td>Only 160 out of 2,446 barangays in Central Vis...</td>\n",
       "      <td>1</td>\n",
       "      <td>True Positive</td>\n",
       "    </tr>\n",
       "    <tr>\n",
       "      <th>10303</th>\n",
       "      <td>About 50,000 farmers stand to become new owner...</td>\n",
       "      <td>1</td>\n",
       "      <td>True Positive</td>\n",
       "    </tr>\n",
       "    <tr>\n",
       "      <th>19842</th>\n",
       "      <td>Heidi Mendoza, a former state auditor, rose to...</td>\n",
       "      <td>1</td>\n",
       "      <td>True Positive</td>\n",
       "    </tr>\n",
       "  </tbody>\n",
       "</table>\n",
       "<p>378 rows × 3 columns</p>\n",
       "</div>"
      ],
      "text/plain": [
       "                                                 article label              LR\n",
       "9987    Heavily armed rebels of the communist-led New...     1   True Positive\n",
       "10430  53 out of the 310 alleged rouge policemen brav...     0  False Positive\n",
       "20684  How can some Filipinos profess to be Catholics...     1   True Positive\n",
       "12707  The Philippine Red Cross (PRC) said it had act...     1   True Positive\n",
       "19571  The sister-in-law of the elusive Gerardo Limli...     1   True Positive\n",
       "...                                                  ...   ...             ...\n",
       "14421  The Philippines started monitoring suspected b...     1   True Positive\n",
       "21833  Over 200 sacks of rice and assorted relief goo...     1   True Positive\n",
       "4907   Only 160 out of 2,446 barangays in Central Vis...     1   True Positive\n",
       "10303  About 50,000 farmers stand to become new owner...     1   True Positive\n",
       "19842  Heidi Mendoza, a former state auditor, rose to...     1   True Positive\n",
       "\n",
       "[378 rows x 3 columns]"
      ]
     },
     "execution_count": 33,
     "metadata": {},
     "output_type": "execute_result"
    }
   ],
   "source": [
    "testing_df"
   ]
  },
  {
   "cell_type": "markdown",
   "id": "d49b9cb7-0d4c-4ea7-8964-1b8c9efe3e81",
   "metadata": {},
   "source": [
    "### Graphing Accuracy of Models"
   ]
  },
  {
   "cell_type": "code",
   "execution_count": 34,
   "id": "5a6d0b72-658d-4bc5-a273-1822b8af38bc",
   "metadata": {},
   "outputs": [],
   "source": [
    "import matplotlib.pyplot as plt"
   ]
  },
  {
   "cell_type": "code",
   "execution_count": 35,
   "id": "f7b95cf1-29c4-4070-8435-d0d588151afe",
   "metadata": {},
   "outputs": [],
   "source": [
    "#classify_result(testing_df['label'],output_label(LR_test(testing_df['article'])))"
   ]
  },
  {
   "cell_type": "code",
   "execution_count": 36,
   "id": "8555f5ab-ad99-4e22-adf4-d4c9168ee7c1",
   "metadata": {},
   "outputs": [],
   "source": [
    "def manual_testing(news):\n",
    "    testing_news = {\"text\":[news]}\n",
    "    new_def_test = pd.DataFrame(testing_news)\n",
    "    new_def_test[\"text\"] = new_def_test[\"text\"].apply(cleantext) \n",
    "    new_x_test = new_def_test[\"text\"]\n",
    "    new_xv_test = vectorization.transform(new_x_test)\n",
    "    pred_LR = LR.predict(new_xv_test)\n",
    "    pred_DT = DT.predict(new_xv_test)\n",
    "    pred_GBC = GBC.predict(new_xv_test)\n",
    "    pred_RFC = RFC.predict(new_xv_test)\n",
    "\n",
    "    return print(\"\\n\\nLR Prediction: {} \\nDT Prediction: {} \\nGBC Prediction: {} \\nRFC Prediction: {}\".format(output_label(pred_LR[0]), \n",
    "                                                                                                              output_label(pred_DT[0]), \n",
    "                                                                                                              output_label(pred_GBC[0]), \n",
    "                                                                                                              output_label(pred_RFC[0])))       "
   ]
  },
  {
   "cell_type": "code",
   "execution_count": null,
   "id": "c44ace2d-229f-446d-8fb7-1cac31ddc51e",
   "metadata": {},
   "outputs": [],
   "source": []
  }
 ],
 "metadata": {
  "kernelspec": {
   "display_name": "Python 3",
   "language": "python",
   "name": "python3"
  },
  "language_info": {
   "codemirror_mode": {
    "name": "ipython",
    "version": 3
   },
   "file_extension": ".py",
   "mimetype": "text/x-python",
   "name": "python",
   "nbconvert_exporter": "python",
   "pygments_lexer": "ipython3",
   "version": "3.8.8"
  }
 },
 "nbformat": 4,
 "nbformat_minor": 5
}
