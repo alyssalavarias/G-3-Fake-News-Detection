{
 "cells": [
  {
   "cell_type": "code",
   "execution_count": 1,
   "id": "5ffb1c3b-b584-478e-adbf-1e9a8218733a",
   "metadata": {
    "id": "5ffb1c3b-b584-478e-adbf-1e9a8218733a"
   },
   "outputs": [],
   "source": [
    "import pandas as pd\n",
    "import numpy as np\n",
    "import matplotlib.pyplot as plt\n",
    "from sklearn.model_selection import train_test_split\n",
    "from sklearn.metrics import accuracy_score\n",
    "from sklearn.metrics import classification_report\n",
    "import re\n",
    "import string\n",
    "import pickle"
   ]
  },
  {
   "cell_type": "markdown",
   "id": "eLDym2Ncdl6D",
   "metadata": {
    "id": "eLDym2Ncdl6D"
   },
   "source": [
    "### Processing the Tagalog Training Dataset"
   ]
  },
  {
   "cell_type": "code",
   "execution_count": 2,
   "id": "sborVwnZdtVr",
   "metadata": {
    "id": "sborVwnZdtVr"
   },
   "outputs": [
    {
     "data": {
      "text/html": [
       "<div>\n",
       "<style scoped>\n",
       "    .dataframe tbody tr th:only-of-type {\n",
       "        vertical-align: middle;\n",
       "    }\n",
       "\n",
       "    .dataframe tbody tr th {\n",
       "        vertical-align: top;\n",
       "    }\n",
       "\n",
       "    .dataframe thead th {\n",
       "        text-align: right;\n",
       "    }\n",
       "</style>\n",
       "<table border=\"1\" class=\"dataframe\">\n",
       "  <thead>\n",
       "    <tr style=\"text-align: right;\">\n",
       "      <th></th>\n",
       "      <th>label</th>\n",
       "      <th>article</th>\n",
       "    </tr>\n",
       "  </thead>\n",
       "  <tbody>\n",
       "    <tr>\n",
       "      <th>0</th>\n",
       "      <td>0</td>\n",
       "      <td>Ayon sa TheWrap.com, naghain ng kaso si Krupa,...</td>\n",
       "    </tr>\n",
       "    <tr>\n",
       "      <th>1</th>\n",
       "      <td>0</td>\n",
       "      <td>Kilala rin ang singer sa pagkumpas ng kanyang ...</td>\n",
       "    </tr>\n",
       "    <tr>\n",
       "      <th>2</th>\n",
       "      <td>0</td>\n",
       "      <td>BLANTYRE, Malawi (AP) -- Bumiyahe patungong Ma...</td>\n",
       "    </tr>\n",
       "    <tr>\n",
       "      <th>3</th>\n",
       "      <td>0</td>\n",
       "      <td>Kasama sa programa ang pananalangin, bulaklak ...</td>\n",
       "    </tr>\n",
       "    <tr>\n",
       "      <th>4</th>\n",
       "      <td>0</td>\n",
       "      <td>Linisin ang Friendship Department dahil dadala...</td>\n",
       "    </tr>\n",
       "    <tr>\n",
       "      <th>...</th>\n",
       "      <td>...</td>\n",
       "      <td>...</td>\n",
       "    </tr>\n",
       "    <tr>\n",
       "      <th>3201</th>\n",
       "      <td>1</td>\n",
       "      <td>Hindi pa nai-enjoy ni Giacomo Filibeck ang Pil...</td>\n",
       "    </tr>\n",
       "    <tr>\n",
       "      <th>3202</th>\n",
       "      <td>1</td>\n",
       "      <td>Sa isang pahayag, binatikos ng Liberal Party (...</td>\n",
       "    </tr>\n",
       "    <tr>\n",
       "      <th>3203</th>\n",
       "      <td>1</td>\n",
       "      <td>Panoorin nyo yung reaction video na ito ni Mr....</td>\n",
       "    </tr>\n",
       "    <tr>\n",
       "      <th>3204</th>\n",
       "      <td>1</td>\n",
       "      <td>Para sa mga magkakapatid na laging nagtatalo l...</td>\n",
       "    </tr>\n",
       "    <tr>\n",
       "      <th>3205</th>\n",
       "      <td>1</td>\n",
       "      <td>Grabe ibang klase talaga si Vice Ganda kung ma...</td>\n",
       "    </tr>\n",
       "  </tbody>\n",
       "</table>\n",
       "<p>3206 rows × 2 columns</p>\n",
       "</div>"
      ],
      "text/plain": [
       "      label                                            article\n",
       "0         0  Ayon sa TheWrap.com, naghain ng kaso si Krupa,...\n",
       "1         0  Kilala rin ang singer sa pagkumpas ng kanyang ...\n",
       "2         0  BLANTYRE, Malawi (AP) -- Bumiyahe patungong Ma...\n",
       "3         0  Kasama sa programa ang pananalangin, bulaklak ...\n",
       "4         0  Linisin ang Friendship Department dahil dadala...\n",
       "...     ...                                                ...\n",
       "3201      1  Hindi pa nai-enjoy ni Giacomo Filibeck ang Pil...\n",
       "3202      1  Sa isang pahayag, binatikos ng Liberal Party (...\n",
       "3203      1  Panoorin nyo yung reaction video na ito ni Mr....\n",
       "3204      1  Para sa mga magkakapatid na laging nagtatalo l...\n",
       "3205      1  Grabe ibang klase talaga si Vice Ganda kung ma...\n",
       "\n",
       "[3206 rows x 2 columns]"
      ]
     },
     "execution_count": 2,
     "metadata": {},
     "output_type": "execute_result"
    }
   ],
   "source": [
    "df = pd.read_csv(\"RawTagalogDataset.csv\")\n",
    "df"
   ]
  },
  {
   "cell_type": "markdown",
   "id": "a76352b1-7753-46b5-a4c1-5cd011c20bfa",
   "metadata": {
    "id": "a76352b1-7753-46b5-a4c1-5cd011c20bfa"
   },
   "source": [
    "##### Checking for Null data points"
   ]
  },
  {
   "cell_type": "code",
   "execution_count": 3,
   "id": "c4616567-a2fa-42c8-9ac4-102299f46e5d",
   "metadata": {
    "id": "c4616567-a2fa-42c8-9ac4-102299f46e5d"
   },
   "outputs": [
    {
     "data": {
      "text/plain": [
       "label      0\n",
       "article    0\n",
       "dtype: int64"
      ]
     },
     "execution_count": 3,
     "metadata": {},
     "output_type": "execute_result"
    }
   ],
   "source": [
    "df.isnull().sum()"
   ]
  },
  {
   "cell_type": "markdown",
   "id": "YaN-PFbpgpWj",
   "metadata": {
    "id": "YaN-PFbpgpWj"
   },
   "source": [
    "### Extracting Tagalog data for testing"
   ]
  },
  {
   "cell_type": "code",
   "execution_count": 4,
   "id": "cbbKoeMygw5C",
   "metadata": {
    "id": "cbbKoeMygw5C"
   },
   "outputs": [],
   "source": [
    "df.shape\n",
    "df = df.sample(frac = 1)\n",
    "testing_df = df.tail(339)\n",
    "for i in range(3205,2866,-1):\n",
    "    df.drop([i], axis = 0, inplace = True)\n",
    "\n",
    "testing_df.to_csv(\"TagalogTestDataset.csv\", index=False)\n",
    "df.to_csv(\"TagalogProcessedDataset.csv\", index=False)"
   ]
  },
  {
   "cell_type": "code",
   "execution_count": 5,
   "id": "T4m7Doiv_D-Y",
   "metadata": {
    "id": "T4m7Doiv_D-Y"
   },
   "outputs": [],
   "source": [
    "df = pd.read_csv(\"TagalogProcessedDataset.csv\")"
   ]
  },
  {
   "cell_type": "markdown",
   "id": "5c9b60e7-4acc-49f5-8891-1b8f819fd664",
   "metadata": {
    "id": "5c9b60e7-4acc-49f5-8891-1b8f819fd664"
   },
   "source": [
    "### Function for cleaning up the text"
   ]
  },
  {
   "cell_type": "code",
   "execution_count": 6,
   "id": "be939311-8c11-4aff-ab69-a0ebbb47ca2b",
   "metadata": {
    "id": "be939311-8c11-4aff-ab69-a0ebbb47ca2b"
   },
   "outputs": [],
   "source": [
    "def cleantext(text):\n",
    "    text = text.lower()\n",
    "    text = re.sub('\\[.*?\\]', '', text)\n",
    "    text = re.sub(\"\\\\W\",\" \",text) \n",
    "    text = re.sub('https?://\\S+|www\\.\\S+', '', text)\n",
    "    text = re.sub('<.*?>+', '', text)\n",
    "    text = re.sub('[%s]' % re.escape(string.punctuation), '', text)\n",
    "    text = re.sub('\\n', '', text)\n",
    "    text = re.sub('\\w*\\d\\w*', '', text)    \n",
    "    return text\n",
    "\n",
    "df[\"article\"] = df[\"article\"].apply(cleantext)"
   ]
  },
  {
   "cell_type": "markdown",
   "id": "a829b02f-ff85-44b4-a25d-089d6d75c8a9",
   "metadata": {
    "id": "a829b02f-ff85-44b4-a25d-089d6d75c8a9"
   },
   "source": [
    "### Defining Variables"
   ]
  },
  {
   "cell_type": "code",
   "execution_count": 7,
   "id": "6f07f6d9-058c-4bae-9238-36aaafd235e2",
   "metadata": {
    "id": "6f07f6d9-058c-4bae-9238-36aaafd235e2"
   },
   "outputs": [],
   "source": [
    "x = df[\"article\"]\n",
    "y = df[\"label\"]\n",
    "y=y.astype('int')"
   ]
  },
  {
   "cell_type": "markdown",
   "id": "132045fb-6db3-459b-9f6d-478a7a238eff",
   "metadata": {
    "id": "132045fb-6db3-459b-9f6d-478a7a238eff"
   },
   "source": [
    "### Split to Training and Testing Sets"
   ]
  },
  {
   "cell_type": "code",
   "execution_count": 8,
   "id": "a2e8019d-e1bd-41fb-8460-2a5ad1880822",
   "metadata": {
    "id": "a2e8019d-e1bd-41fb-8460-2a5ad1880822"
   },
   "outputs": [],
   "source": [
    "x_train, x_test, y_train, y_test = train_test_split(x, y, test_size=0.25)"
   ]
  },
  {
   "cell_type": "markdown",
   "id": "9afe220e-99c7-402b-a225-3338f1d2728f",
   "metadata": {
    "id": "9afe220e-99c7-402b-a225-3338f1d2728f"
   },
   "source": [
    "### Vectorizing text"
   ]
  },
  {
   "cell_type": "code",
   "execution_count": 9,
   "id": "d96a33b8-24e4-4f7d-a666-0a912a0557ca",
   "metadata": {
    "id": "d96a33b8-24e4-4f7d-a666-0a912a0557ca"
   },
   "outputs": [],
   "source": [
    "from sklearn.feature_extraction.text import TfidfVectorizer\n",
    "vectorization = TfidfVectorizer()\n",
    "xv_train = vectorization.fit_transform(x_train)\n",
    "xv_test = vectorization.transform(x_test)"
   ]
  },
  {
   "cell_type": "markdown",
   "id": "87a61b80-ce4c-45aa-a17f-95dd5195a8b7",
   "metadata": {
    "id": "87a61b80-ce4c-45aa-a17f-95dd5195a8b7"
   },
   "source": [
    "### Logistic Regression Model"
   ]
  },
  {
   "cell_type": "code",
   "execution_count": 10,
   "id": "e60dbf8a-f1dc-401c-b6b7-9c70dcb570aa",
   "metadata": {
    "id": "e60dbf8a-f1dc-401c-b6b7-9c70dcb570aa"
   },
   "outputs": [
    {
     "data": {
      "text/plain": [
       "0.9553695955369595"
      ]
     },
     "execution_count": 10,
     "metadata": {},
     "output_type": "execute_result"
    }
   ],
   "source": [
    "from sklearn.linear_model import LogisticRegression\n",
    "LR = LogisticRegression()\n",
    "LR.fit(xv_train,y_train)\n",
    "pred_lr=LR.predict(xv_test)\n",
    "LR.score(xv_test, y_test)"
   ]
  },
  {
   "cell_type": "code",
   "execution_count": 11,
   "id": "8cd700a8-6504-4b05-affe-08f11c133a7a",
   "metadata": {
    "id": "8cd700a8-6504-4b05-affe-08f11c133a7a"
   },
   "outputs": [
    {
     "name": "stdout",
     "output_type": "stream",
     "text": [
      "              precision    recall  f1-score   support\n",
      "\n",
      "           0       0.94      0.99      0.96       402\n",
      "           1       0.98      0.91      0.95       315\n",
      "\n",
      "    accuracy                           0.96       717\n",
      "   macro avg       0.96      0.95      0.95       717\n",
      "weighted avg       0.96      0.96      0.96       717\n",
      "\n"
     ]
    }
   ],
   "source": [
    "print(classification_report(y_test, pred_lr))"
   ]
  },
  {
   "cell_type": "code",
   "execution_count": 12,
   "id": "3f518d8a-6fb4-47b5-8e3a-5dccb0ceb962",
   "metadata": {},
   "outputs": [],
   "source": [
    "with open(\"LR_Model_Tagalog.pkl\", 'wb') as file:  \n",
    "    pickle.dump(LR, file)"
   ]
  },
  {
   "cell_type": "markdown",
   "id": "e9f0d7e1-a360-4300-9a35-eb0f1e9cc95f",
   "metadata": {
    "id": "e9f0d7e1-a360-4300-9a35-eb0f1e9cc95f"
   },
   "source": [
    "### Decision Tree Classification"
   ]
  },
  {
   "cell_type": "code",
   "execution_count": 13,
   "id": "0e0_GJRh3YMU",
   "metadata": {
    "id": "0e0_GJRh3YMU"
   },
   "outputs": [
    {
     "data": {
      "text/plain": [
       "0.9497907949790795"
      ]
     },
     "execution_count": 13,
     "metadata": {},
     "output_type": "execute_result"
    }
   ],
   "source": [
    "from sklearn.tree import DecisionTreeClassifier\n",
    "DT = DecisionTreeClassifier()\n",
    "DT.fit(xv_train, y_train)\n",
    "pred_dt = DT.predict(xv_test)\n",
    "DT.score(xv_test, y_test)"
   ]
  },
  {
   "cell_type": "code",
   "execution_count": 14,
   "id": "qcJm4MEk3X8d",
   "metadata": {
    "id": "qcJm4MEk3X8d"
   },
   "outputs": [
    {
     "name": "stdout",
     "output_type": "stream",
     "text": [
      "              precision    recall  f1-score   support\n",
      "\n",
      "           0       0.94      0.97      0.96       402\n",
      "           1       0.96      0.93      0.94       315\n",
      "\n",
      "    accuracy                           0.95       717\n",
      "   macro avg       0.95      0.95      0.95       717\n",
      "weighted avg       0.95      0.95      0.95       717\n",
      "\n"
     ]
    }
   ],
   "source": [
    "print(classification_report(y_test, pred_dt))"
   ]
  },
  {
   "cell_type": "code",
   "execution_count": 15,
   "id": "85636920-bd2f-49e8-a08d-1bcf28a876a1",
   "metadata": {},
   "outputs": [],
   "source": [
    "with open(\"DT_Model_Tagalog.pkl\", 'wb') as file:  \n",
    "    pickle.dump(DT, file)"
   ]
  },
  {
   "cell_type": "markdown",
   "id": "98fb13c9-c2f5-4820-831c-19b0609c7a61",
   "metadata": {
    "id": "98fb13c9-c2f5-4820-831c-19b0609c7a61"
   },
   "source": [
    "### Gradient Boosting Classifier"
   ]
  },
  {
   "cell_type": "code",
   "execution_count": 16,
   "id": "D9V9q5Ix3Vcb",
   "metadata": {
    "id": "D9V9q5Ix3Vcb"
   },
   "outputs": [
    {
     "data": {
      "text/plain": [
       "0.9623430962343096"
      ]
     },
     "execution_count": 16,
     "metadata": {},
     "output_type": "execute_result"
    }
   ],
   "source": [
    "from sklearn.ensemble import GradientBoostingClassifier\n",
    "GBC = GradientBoostingClassifier(random_state=0)\n",
    "GBC.fit(xv_train, y_train)\n",
    "pred_gbc = GBC.predict(xv_test)\n",
    "GBC.score(xv_test, y_test)"
   ]
  },
  {
   "cell_type": "code",
   "execution_count": 17,
   "id": "nNqWdFMD3VFU",
   "metadata": {
    "id": "nNqWdFMD3VFU"
   },
   "outputs": [
    {
     "name": "stdout",
     "output_type": "stream",
     "text": [
      "              precision    recall  f1-score   support\n",
      "\n",
      "           0       0.95      0.99      0.97       402\n",
      "           1       0.99      0.93      0.96       315\n",
      "\n",
      "    accuracy                           0.96       717\n",
      "   macro avg       0.97      0.96      0.96       717\n",
      "weighted avg       0.96      0.96      0.96       717\n",
      "\n"
     ]
    }
   ],
   "source": [
    "print(classification_report(y_test, pred_gbc))"
   ]
  },
  {
   "cell_type": "code",
   "execution_count": 18,
   "id": "b0b1a934-8429-4c21-910c-632cc9393c14",
   "metadata": {},
   "outputs": [],
   "source": [
    "with open(\"GBC_Model_Tagalog.pkl\", 'wb') as file:  \n",
    "    pickle.dump(GBC, file)"
   ]
  },
  {
   "cell_type": "markdown",
   "id": "23e72ae6-1768-48f0-ae1e-ce2338455f43",
   "metadata": {
    "id": "23e72ae6-1768-48f0-ae1e-ce2338455f43"
   },
   "source": [
    "### Random Forest Classifier"
   ]
  },
  {
   "cell_type": "code",
   "execution_count": 19,
   "id": "C1itF-dB3Y1e",
   "metadata": {
    "id": "C1itF-dB3Y1e"
   },
   "outputs": [
    {
     "data": {
      "text/plain": [
       "0.9651324965132496"
      ]
     },
     "execution_count": 19,
     "metadata": {},
     "output_type": "execute_result"
    }
   ],
   "source": [
    "from sklearn.ensemble import RandomForestClassifier\n",
    "RFC = RandomForestClassifier(random_state=0)\n",
    "RFC.fit(xv_train, y_train)\n",
    "pred_rfc = RFC.predict(xv_test)\n",
    "RFC.score(xv_test, y_test)"
   ]
  },
  {
   "cell_type": "code",
   "execution_count": 20,
   "id": "EMK7OciZ3Ymr",
   "metadata": {
    "id": "EMK7OciZ3Ymr"
   },
   "outputs": [
    {
     "name": "stdout",
     "output_type": "stream",
     "text": [
      "              precision    recall  f1-score   support\n",
      "\n",
      "           0       0.95      0.99      0.97       402\n",
      "           1       0.98      0.94      0.96       315\n",
      "\n",
      "    accuracy                           0.97       717\n",
      "   macro avg       0.97      0.96      0.96       717\n",
      "weighted avg       0.97      0.97      0.97       717\n",
      "\n"
     ]
    }
   ],
   "source": [
    "print(classification_report(y_test, pred_rfc))"
   ]
  },
  {
   "cell_type": "code",
   "execution_count": 21,
   "id": "1564aca2-c33f-45cc-8334-aed2e67c151b",
   "metadata": {},
   "outputs": [],
   "source": [
    "with open(\"RFC_Model_Tagalog.pkl\", 'wb') as file:  \n",
    "    pickle.dump(RFC, file)"
   ]
  },
  {
   "cell_type": "markdown",
   "id": "9b7fbd09-21f5-4417-8a07-d5d686912fcb",
   "metadata": {
    "id": "9b7fbd09-21f5-4417-8a07-d5d686912fcb"
   },
   "source": [
    "### Testing the Models"
   ]
  },
  {
   "cell_type": "code",
   "execution_count": 23,
   "id": "4ffe942d-e476-4c25-b0ae-af9ea777cc5e",
   "metadata": {
    "id": "4ffe942d-e476-4c25-b0ae-af9ea777cc5e"
   },
   "outputs": [],
   "source": [
    "def LR_test(news):\n",
    "    testing_news = {\"text\":[news]}\n",
    "    new_def_test = pd.DataFrame(testing_news)\n",
    "    new_def_test[\"text\"] = new_def_test[\"text\"].apply(cleantext) \n",
    "    new_x_test = new_def_test[\"text\"]\n",
    "    new_xv_test = vectorization.transform(new_x_test)\n",
    "    pred_LR = LR.predict(new_xv_test)\n",
    "    return pred_LR[0]\n",
    "\n",
    "def DT_test(news):\n",
    "    testing_news = {\"text\":[news]}\n",
    "    new_def_test = pd.DataFrame(testing_news)\n",
    "    new_def_test[\"text\"] = new_def_test[\"text\"].apply(cleantext) \n",
    "    new_x_test = new_def_test[\"text\"]\n",
    "    new_xv_test = vectorization.transform(new_x_test)\n",
    "    pred_DT = DT.predict(new_xv_test)\n",
    "    return pred_DT[0]\n",
    "\n",
    "def GBC_test(news):\n",
    "    testing_news = {\"text\":[news]}\n",
    "    new_def_test = pd.DataFrame(testing_news)\n",
    "    new_def_test[\"text\"] = new_def_test[\"text\"].apply(cleantext) \n",
    "    new_x_test = new_def_test[\"text\"]\n",
    "    new_xv_test = vectorization.transform(new_x_test)\n",
    "    pred_GBC = GBC.predict(new_xv_test)\n",
    "    return pred_GBC[0]\n",
    "    \n",
    "def RFC_test(news):\n",
    "    testing_news = {\"text\":[news]}\n",
    "    new_def_test = pd.DataFrame(testing_news)\n",
    "    new_def_test[\"text\"] = new_def_test[\"text\"].apply(cleantext) \n",
    "    new_x_test = new_def_test[\"text\"]\n",
    "    new_xv_test = vectorization.transform(new_x_test)\n",
    "    pred_RFC = RFC.predict(new_xv_test)\n",
    "    return pred_RFC[0]\n",
    "    \n",
    "def classify_result(correct,prediction):\n",
    "    if correct == 1 and prediction == 1:\n",
    "        return \"True Positive\"\n",
    "    elif correct == 1 and prediction == 0:\n",
    "        return \"False Negative\"\n",
    "    elif correct == 0 and prediction == 0:\n",
    "        return \"True Negative\"\n",
    "    elif correct == 0 and prediction == 1:\n",
    "        return \"False Positive\""
   ]
  },
  {
   "cell_type": "code",
   "execution_count": 24,
   "id": "7os5cD0B5Emg",
   "metadata": {
    "id": "7os5cD0B5Emg"
   },
   "outputs": [],
   "source": [
    "analysis_df = df = pd.read_csv(\"TagalogTestDataset.csv\")\n",
    "\n",
    "analysis_df.loc[:,[\"LR\"]] = analysis_df[\"article\"].apply(LR_test)\n",
    "analysis_df.loc[:,[\"LR\"]] = np.vectorize(classify_result)(analysis_df[\"label\"],analysis_df[\"LR\"])\n",
    "\n",
    "analysis_df.loc[:,[\"DT\"]] = analysis_df[\"article\"].apply(DT_test)\n",
    "analysis_df.loc[:,[\"DT\"]] = np.vectorize(classify_result)(analysis_df[\"label\"],analysis_df[\"DT\"])\n",
    "\n",
    "analysis_df.loc[:,[\"GBC\"]] = analysis_df[\"article\"].apply(GBC_test)\n",
    "analysis_df.loc[:,[\"GBC\"]] = np.vectorize(classify_result)(analysis_df[\"label\"],analysis_df[\"GBC\"])\n",
    "\n",
    "analysis_df.loc[:,[\"RFC\"]] = analysis_df[\"article\"].apply(RFC_test)\n",
    "analysis_df.loc[:,[\"RFC\"]] = np.vectorize(classify_result)(analysis_df[\"label\"],analysis_df[\"RFC\"])"
   ]
  },
  {
   "cell_type": "markdown",
   "id": "d49b9cb7-0d4c-4ea7-8964-1b8c9efe3e81",
   "metadata": {
    "id": "d49b9cb7-0d4c-4ea7-8964-1b8c9efe3e81"
   },
   "source": [
    "### Visualizing Accuracy of Models"
   ]
  },
  {
   "cell_type": "code",
   "execution_count": 25,
   "id": "UfOoOTx5ZkT9",
   "metadata": {
    "id": "UfOoOTx5ZkT9"
   },
   "outputs": [],
   "source": [
    "LR_analysis_df = analysis_df.groupby(\"LR\")[\"LR\"].count().to_frame()\n",
    "LR_analysis_df.rename(columns={\"LR\":\"count\"},inplace=True)\n",
    "LR_analysis_df.reset_index(inplace=True)\n",
    "LR_analysis_x = np.array(LR_analysis_df[\"LR\"])\n",
    "LR_analysis_y = np.array(LR_analysis_df[\"count\"])\n",
    "\n",
    "DT_analysis_df = analysis_df.groupby(\"DT\")[\"DT\"].count().to_frame()\n",
    "DT_analysis_df.rename(columns={\"DT\":\"count\"},inplace=True)\n",
    "DT_analysis_df.reset_index(inplace=True)\n",
    "DT_analysis_x = np.array(DT_analysis_df[\"DT\"])\n",
    "DT_analysis_y = np.array(DT_analysis_df[\"count\"])\n",
    "\n",
    "GBC_analysis_df = analysis_df.groupby(\"GBC\")[\"GBC\"].count().to_frame()\n",
    "GBC_analysis_df.rename(columns={\"GBC\":\"count\"},inplace=True)\n",
    "GBC_analysis_df.reset_index(inplace=True)\n",
    "GBC_analysis_x = np.array(GBC_analysis_df[\"GBC\"])\n",
    "GBC_analysis_y = np.array(GBC_analysis_df[\"count\"])\n",
    "\n",
    "RFC_analysis_df = analysis_df.groupby(\"RFC\")[\"RFC\"].count().to_frame()\n",
    "RFC_analysis_df.rename(columns={\"RFC\":\"count\"},inplace=True)\n",
    "RFC_analysis_df.reset_index(inplace=True)\n",
    "RFC_analysis_x = np.array(RFC_analysis_df[\"RFC\"])\n",
    "RFC_analysis_y = np.array(RFC_analysis_df[\"count\"])\n"
   ]
  },
  {
   "cell_type": "code",
   "execution_count": 26,
   "id": "0J4eazwYZkLM",
   "metadata": {
    "id": "0J4eazwYZkLM"
   },
   "outputs": [
    {
     "data": {
      "image/png": "[encoded data removed]",
      "text/plain": [
       "<Figure size 2160x720 with 4 Axes>"
      ]
     },
     "metadata": {
      "needs_background": "light"
     },
     "output_type": "display_data"
    },
    {
     "data": {
      "text/plain": [
       "<Figure size 792x432 with 0 Axes>"
      ]
     },
     "metadata": {},
     "output_type": "display_data"
    }
   ],
   "source": [
    "def set_color(result):\n",
    "    if result == \"False Negative\":\n",
    "        return \"red\"\n",
    "    elif result == \"False Positive\":\n",
    "        return \"#FF7F7F\"\n",
    "    elif result == \"True Negative\":\n",
    "        return \"green\"\n",
    "    elif result == \"True Positive\":\n",
    "        return \"#90EE90\"\n",
    "\n",
    "fig,ax = plt.subplots(1,4)\n",
    "plt.figure(figsize = (11,6))\n",
    "fig.set_size_inches(30,10)\n",
    "\n",
    "ax[0].bar(height= LR_analysis_y,x=LR_analysis_x,color= [set_color(i) for i in LR_analysis_x])\n",
    "ax[0].set_title(\"LR Model Results Summary\",fontsize=16)\n",
    "ax[1].bar(height = DT_analysis_y,x=DT_analysis_x,color= [set_color(i) for i in DT_analysis_x])\n",
    "ax[1].set_title(\"DT Model Results Summary\",fontsize=16)\n",
    "ax[2].bar(height= GBC_analysis_y,x=GBC_analysis_x,color= [set_color(i) for i in GBC_analysis_x])\n",
    "ax[2].set_title(\"GBC Model Results Summary\",fontsize=16)\n",
    "ax[3].bar(height = RFC_analysis_y,x=RFC_analysis_x,color= [set_color(i) for i in RFC_analysis_x])\n",
    "ax[3].set_title(\"RFC Model Results Summary\",fontsize=16)\n",
    "fig.savefig(\"TagalogBarGraph.png\")"
   ]
  },
  {
   "cell_type": "code",
   "execution_count": 27,
   "id": "63aMcKCbZkA_",
   "metadata": {
    "id": "63aMcKCbZkA_"
   },
   "outputs": [
    {
     "data": {
      "image/png": "[encoded data removed]",
      "text/plain": [
       "<Figure size 1440x1440 with 4 Axes>"
      ]
     },
     "metadata": {},
     "output_type": "display_data"
    },
    {
     "data": {
      "text/plain": [
       "<Figure size 432x432 with 0 Axes>"
      ]
     },
     "metadata": {},
     "output_type": "display_data"
    }
   ],
   "source": [
    "fig,ax = plt.subplots(2,2)\n",
    "plt.figure(figsize = (6,6))\n",
    "fig.set_size_inches(20,20)\n",
    "\n",
    "ax[0,0].pie(LR_analysis_y,labels=LR_analysis_x,colors=[set_color(i) for i in LR_analysis_x],autopct='%1.2f%%')\n",
    "ax[0,0].set_title(\"LR Model Results Summary\",fontsize=16)\n",
    "ax[0,1].pie(DT_analysis_y,labels=DT_analysis_x,colors=[set_color(i) for i in DT_analysis_x],autopct='%1.2f%%')\n",
    "ax[0,1].set_title(\"DT Model Results Summary\",fontsize=16)\n",
    "ax[1,0].pie(GBC_analysis_y,labels=GBC_analysis_x,colors=[set_color(i) for i in GBC_analysis_x],autopct='%1.2f%%')\n",
    "ax[1,0].set_title(\"GBC Model Results Summary\",fontsize=16)\n",
    "ax[1,1].pie(RFC_analysis_y,labels=RFC_analysis_x,colors=[set_color(i) for i in RFC_analysis_x],autopct='%1.2f%%')\n",
    "ax[1,1].set_title(\"RFC Model Results Summary\",fontsize=16)\n",
    "plt.show()\n",
    "fig.savefig(\"TagalogPieChart.png\")"
   ]
  },
  {
   "cell_type": "markdown",
   "id": "kG_W3z5KNTNB",
   "metadata": {
    "id": "kG_W3z5KNTNB"
   },
   "source": [
    "### Function for inputting"
   ]
  },
  {
   "cell_type": "code",
   "execution_count": null,
   "id": "G51MyBFYJCnJ",
   "metadata": {
    "id": "G51MyBFYJCnJ"
   },
   "outputs": [],
   "source": [
    "def output_label(n):\n",
    "    if n == 0:\n",
    "        return \"Fake News\"\n",
    "    elif n == 1:\n",
    "        return \"Real News\"\n",
    "    \n",
    "def manual_testing():\n",
    "    news = str(input(\"Paste article text here:\"))\n",
    "    return print(f'''\n",
    "             LR Prediction: {output_label(LR_test(news))} \n",
    "             DT Prediction: {output_label(DT_test(news))} \n",
    "             GBC Prediction: {output_label(GBC_test(news))} \n",
    "             RFC Prediction: {output_label(RFC_test(news))}''')\n",
    "\n",
    "manual_testing()"
   ]
  },
  {
   "cell_type": "code",
   "execution_count": null,
   "id": "a7ffd2f4-cbbe-4688-9494-9292ee58f51c",
   "metadata": {},
   "outputs": [],
   "source": []
  }
 ],
 "metadata": {
  "colab": {
   "collapsed_sections": [],
   "name": "G3 Final Project.ipynb",
   "provenance": []
  },
  "kernelspec": {
   "display_name": "Python 3",
   "language": "python",
   "name": "python3"
  },
  "language_info": {
   "codemirror_mode": {
    "name": "ipython",
    "version": 3
   },
   "file_extension": ".py",
   "mimetype": "text/x-python",
   "name": "python",
   "nbconvert_exporter": "python",
   "pygments_lexer": "ipython3",
   "version": "3.8.8"
  }
 },
 "nbformat": 4,
 "nbformat_minor": 5
}
